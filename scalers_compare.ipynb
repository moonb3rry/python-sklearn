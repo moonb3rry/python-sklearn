{
  "nbformat": 4,
  "nbformat_minor": 0,
  "metadata": {
    "colab": {
      "provenance": []
    },
    "kernelspec": {
      "name": "python3",
      "display_name": "Python 3"
    },
    "language_info": {
      "name": "python"
    }
  },
  "cells": [
    {
      "cell_type": "markdown",
      "source": [
        "Номер группы, ФИО: М8О-202М-21, Базыльникова Екатерина Родионовна"
      ],
      "metadata": {
        "id": "BXs-PAVvg5Aj"
      }
    },
    {
      "cell_type": "code",
      "execution_count": 17,
      "metadata": {
        "id": "f-4SCj8xaidw"
      },
      "outputs": [],
      "source": [
        "from sklearn.preprocessing import StandardScaler\n",
        "from sklearn.preprocessing import MinMaxScaler\n",
        "from sklearn import datasets\n",
        "from sklearn.model_selection import train_test_split\n",
        "from sklearn.linear_model import Perceptron, LogisticRegression\n",
        "from sklearn.neighbors import KNeighborsClassifier\n",
        "from sklearn.tree import DecisionTreeClassifier\n",
        "from sklearn.metrics import accuracy_score\n",
        "import numpy as np\n",
        "import pandas as p"
      ]
    },
    {
      "cell_type": "code",
      "source": [
        "wine = datasets.load_wine()\n",
        "XX = wine.data\n",
        "yy = wine.target\n",
        "X_train, X_test, y_train, y_test = train_test_split(XX, yy, test_size=0.3, random_state=5)"
      ],
      "metadata": {
        "id": "aKNpV_yFi8Hy"
      },
      "execution_count": 18,
      "outputs": []
    },
    {
      "cell_type": "code",
      "source": [
        "classifiers = [Perceptron(max_iter=1000, tol=1e-3), LogisticRegression(multi_class='auto', solver='liblinear'),\n",
        "               KNeighborsClassifier(n_neighbors=5), DecisionTreeClassifier(max_depth=3)]"
      ],
      "metadata": {
        "id": "1UUAAm0xkNQr"
      },
      "execution_count": 19,
      "outputs": []
    },
    {
      "cell_type": "code",
      "source": [
        "def acc_for_clrs(X_train, y_train, X_test, y_test):\n",
        "  for classifier in classifiers:\n",
        "    classifier.fit(X_train, y_train)\n",
        "    y_pred = classifier.predict(X_test)\n",
        "    print(classifier.__class__.__name__, accuracy_score(y_test, y_pred))"
      ],
      "metadata": {
        "id": "SA6m2XmloRrp"
      },
      "execution_count": 20,
      "outputs": []
    },
    {
      "cell_type": "code",
      "source": [
        "standard_scaler = StandardScaler()\n",
        "s_scaled = p.DataFrame(standard_scaler.fit_transform(X_train))\n",
        "s_scaled_test = p.DataFrame(standard_scaler.transform(X_test))"
      ],
      "metadata": {
        "id": "EMhlaSS_opsT"
      },
      "execution_count": 22,
      "outputs": []
    },
    {
      "cell_type": "code",
      "source": [
        "minmax_scaler = MinMaxScaler()\n",
        "mm_scaled = p.DataFrame(minmax_scaler.fit_transform(X_train))\n",
        "mm_scaled_test = p.DataFrame(minmax_scaler.transform(X_test))"
      ],
      "metadata": {
        "id": "fOOqtsvfrwI2"
      },
      "execution_count": 24,
      "outputs": []
    },
    {
      "cell_type": "markdown",
      "source": [
        "Точность работы классификаторов:\n",
        "1. без масштабирования\n",
        "2. с масштабированием standard_scaler\n",
        "3. с масштабированием minmaxscaler"
      ],
      "metadata": {
        "id": "mjRdB_M2n8_S"
      }
    },
    {
      "cell_type": "code",
      "source": [
        "print(\"=== No scaler ===\")\n",
        "acc_for_clrs(X_train, y_train, X_test, y_test)\n",
        "print(\"=== Standard scaler ===\")\n",
        "acc_for_clrs(s_scaled, y_train, s_scaled_test, y_test)\n",
        "print(\"=== Minmax scaler ===\")\n",
        "acc_for_clrs(mm_scaled, y_train, mm_scaled_test, y_test)"
      ],
      "metadata": {
        "colab": {
          "base_uri": "https://localhost:8080/"
        },
        "id": "RgzEQ_EusEXj",
        "outputId": "5211725f-4b76-40ed-d8ad-1e3d45d6d6c4"
      },
      "execution_count": 25,
      "outputs": [
        {
          "output_type": "stream",
          "name": "stdout",
          "text": [
            "=== No scaler ===\n",
            "Perceptron 0.5925925925925926\n",
            "LogisticRegression 0.9259259259259259\n",
            "KNeighborsClassifier 0.7037037037037037\n",
            "DecisionTreeClassifier 0.9259259259259259\n",
            "=== Standard scaler ===\n",
            "Perceptron 1.0\n",
            "LogisticRegression 1.0\n",
            "KNeighborsClassifier 0.9629629629629629\n",
            "DecisionTreeClassifier 0.9259259259259259\n",
            "=== Minmax scaler ===\n",
            "Perceptron 0.9259259259259259\n",
            "LogisticRegression 0.9444444444444444\n",
            "KNeighborsClassifier 0.9259259259259259\n",
            "DecisionTreeClassifier 0.9259259259259259\n"
          ]
        }
      ]
    },
    {
      "cell_type": "markdown",
      "source": [
        "Ответить на вопросы:\n",
        "1. В каком случае (StandatdScaler/MinMaxScaler/без масштабирования) алгоритмы показали лучший результат?\n",
        "\n",
        "Ответ: <font color='green'>\n",
        "*   Персептрон показал наибольшую точность (1) на масштабированных данных (стандартное масштабирование), после идет минмакс.\n",
        "*   Для логистической регрессии все три случая практически одинаковы, стандартное масштабирование дало лучший результат (0.96), отсутствие масштабирования -- худший (0.92).\n",
        "* Метод ближайших соседей лучше всего показал себя на стандартно масштабированных данных, чуть хуже минмакс, хуже всех -- без масштабирования.\n",
        "* Дерево решений показало одинаковый результат во всех случаях </font>\n",
        "\n",
        "\n",
        "2. Как повлияло масштабирование признаков на результаты работы DecisionTreeClassifier?\n",
        "\n",
        "Ответ: <font color='green'>Никак (возможно потому что дерево создает фиксированное количество узлов?)</font>"
      ],
      "metadata": {
        "id": "XrpRKzrR01w2"
      }
    },
    {
      "cell_type": "markdown",
      "source": [
        "Для классификатора `LogisticRegression` сделать конвейер с лучшим алгоритмом масштабирования, полученным в предыдущем задании. Обучить конвейер на тренировочных данных, сделать предсказания с помощью конвейера, оценить точность на тестовых данных.\n",
        "Из конвейера получить натренированный классификатор (`pipline.steps[0]` вернет `tuple` с масштабирующим классом, `pipline.steps[1]` вернет `tuple` с классификатором, откуда можно получить классификатор)"
      ],
      "metadata": {
        "id": "LCzgqGUY06Q1"
      }
    },
    {
      "cell_type": "code",
      "source": [
        "from sklearn.pipeline import Pipeline\n",
        "steps = [('scaler',standard_scaler), ('classifier', classifiers[1])]\n",
        "pipe = Pipeline(steps)\n",
        "pipe.fit(X_train,y_train)\n",
        "y_pred = pipe.predict(X_test)\n",
        "print(accuracy_score(y_test, y_pred))"
      ],
      "metadata": {
        "colab": {
          "base_uri": "https://localhost:8080/"
        },
        "id": "qEgWmEwp4IMK",
        "outputId": "f036d2ff-abaf-46fd-d475-b1aa4ee5353e"
      },
      "execution_count": 31,
      "outputs": [
        {
          "output_type": "stream",
          "name": "stdout",
          "text": [
            "1.0\n"
          ]
        }
      ]
    },
    {
      "cell_type": "markdown",
      "source": [
        "Отобразить коэффициенты весов `w` разделяющих классы гиперплоскостей (3 массива весов, которые отделяют каждый класс от двух других)"
      ],
      "metadata": {
        "id": "VhUMU70d4SN-"
      }
    },
    {
      "cell_type": "code",
      "source": [
        "print(pipe.steps[1][1].coef_)\n",
        "weights = np.array(pipe.steps[1][1].coef_)"
      ],
      "metadata": {
        "colab": {
          "base_uri": "https://localhost:8080/"
        },
        "id": "n_wD0SBp4S-b",
        "outputId": "d5a86c53-3dda-4e3d-c39a-9fdb10445509"
      },
      "execution_count": 47,
      "outputs": [
        {
          "output_type": "stream",
          "name": "stdout",
          "text": [
            "[[ 1.19492626  0.13597831  0.47455935 -1.27276261 -0.00591202  0.31594293\n",
            "   0.92846648 -0.26177061 -0.0957287   0.13128945  0.06106702  0.64448827\n",
            "   1.72510196]\n",
            " [-1.39030608 -0.50592331 -0.80222654  0.64718261 -0.04381452 -0.10982866\n",
            "   0.49686606  0.29667133  0.21979153 -1.89590739  0.84135887  0.08353773\n",
            "  -1.65794101]\n",
            " [ 0.33611661  0.35644895  0.32539937  0.32404121  0.07326638 -0.01396881\n",
            "  -1.31261802 -0.03135595 -0.33526387  1.65677635 -0.83741372 -0.79692207\n",
            "  -0.13077839]]\n"
          ]
        }
      ]
    },
    {
      "cell_type": "code",
      "source": [
        "names = np.array(['Алкоголь','Яблочная кислота','Зола','Щелочность золы','Магнезия',\n",
        "                  'Общее содержание фенолов', 'Флаваноиды', 'Нефлаваноидные фенолы', \n",
        "                  'Проантоцианины', 'Интенсивность цвета', 'Оттенок', \n",
        "                  'OD280 / OD315 разбавленных (разведенных) вин', 'Пролин'])"
      ],
      "metadata": {
        "id": "0BaMwkYr4Vo2"
      },
      "execution_count": 48,
      "outputs": []
    },
    {
      "cell_type": "markdown",
      "source": [
        "По коэффициентам весов `w` классификатора  определить, какие из признаков наиболее значимы (имеют абсолютное значение больше единицы). <b>Важно:</b> для отбора признаков использовать возможности библиотеки NumPy (см. lection_2_numpy_start)"
      ],
      "metadata": {
        "id": "kwoYGWcv4YXB"
      }
    },
    {
      "cell_type": "code",
      "source": [
        "for i in range(0,3):\n",
        "  tfvector = np.abs(weights[i])>1\n",
        "  print(names[tfvector == True])"
      ],
      "metadata": {
        "colab": {
          "base_uri": "https://localhost:8080/"
        },
        "id": "XvhsmSnV4aMZ",
        "outputId": "63ca989a-f8bc-4b2e-86b4-5c5cccaee6a0"
      },
      "execution_count": 68,
      "outputs": [
        {
          "output_type": "stream",
          "name": "stdout",
          "text": [
            "['Алкоголь' 'Щелочность золы' 'Пролин']\n",
            "['Алкоголь' 'Интенсивность цвета' 'Пролин']\n",
            "['Флаваноиды' 'Интенсивность цвета']\n"
          ]
        }
      ]
    },
    {
      "cell_type": "markdown",
      "source": [],
      "metadata": {
        "id": "veo4iRqKDRGx"
      }
    }
  ]
}