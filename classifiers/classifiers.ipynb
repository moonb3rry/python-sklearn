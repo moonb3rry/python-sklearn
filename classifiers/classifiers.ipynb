{
  "cells": [
    {
      "cell_type": "markdown",
      "metadata": {
        "id": "KJCgKVYAW9RT"
      },
      "source": [
        "Номер группы, ФИО:\n",
        "М8О-202М-21, Базыльникова Екатерина Родионовна"
      ]
    },
    {
      "cell_type": "code",
      "execution_count": 130,
      "metadata": {
        "id": "LYaNQrs1W9Rd"
      },
      "outputs": [],
      "source": [
        "from sklearn.model_selection import train_test_split\n",
        "from sklearn.neighbors import KNeighborsClassifier\n",
        "from sklearn.naive_bayes import GaussianNB\n",
        "from sklearn.tree import DecisionTreeClassifier\n",
        "from sklearn.metrics import accuracy_score\n",
        "import pandas as pd"
      ]
    },
    {
      "cell_type": "markdown",
      "metadata": {
        "id": "bgG5xlqbW9Rf"
      },
      "source": [
        "Считываем данные из файла 'ph-data.csv'. Первые три столбца будут выступать в качестве матрицы признаков объектов - создать из них новый объект X. Целевая переменная хранится в столбце с названием label - из нее создать новый объект y. Заменить все значения y, меньшие 6 (кислотная среда) на -1, большие 9 (щелочная среда) на 1, 6-9 на 0."
      ]
    },
    {
      "cell_type": "code",
      "execution_count": 131,
      "metadata": {
        "colab": {
          "base_uri": "https://localhost:8080/",
          "height": 74
        },
        "id": "sfV1Z1V0W9Rg",
        "outputId": "e129fbae-e441-4b3d-debb-f08b336dbad2"
      },
      "outputs": [
        {
          "output_type": "display_data",
          "data": {
            "text/plain": [
              "<IPython.core.display.HTML object>"
            ],
            "text/html": [
              "\n",
              "     <input type=\"file\" id=\"files-db791cf6-be2c-4c60-99d6-f08469bf3531\" name=\"files[]\" multiple disabled\n",
              "        style=\"border:none\" />\n",
              "     <output id=\"result-db791cf6-be2c-4c60-99d6-f08469bf3531\">\n",
              "      Upload widget is only available when the cell has been executed in the\n",
              "      current browser session. Please rerun this cell to enable.\n",
              "      </output>\n",
              "      <script>// Copyright 2017 Google LLC\n",
              "//\n",
              "// Licensed under the Apache License, Version 2.0 (the \"License\");\n",
              "// you may not use this file except in compliance with the License.\n",
              "// You may obtain a copy of the License at\n",
              "//\n",
              "//      http://www.apache.org/licenses/LICENSE-2.0\n",
              "//\n",
              "// Unless required by applicable law or agreed to in writing, software\n",
              "// distributed under the License is distributed on an \"AS IS\" BASIS,\n",
              "// WITHOUT WARRANTIES OR CONDITIONS OF ANY KIND, either express or implied.\n",
              "// See the License for the specific language governing permissions and\n",
              "// limitations under the License.\n",
              "\n",
              "/**\n",
              " * @fileoverview Helpers for google.colab Python module.\n",
              " */\n",
              "(function(scope) {\n",
              "function span(text, styleAttributes = {}) {\n",
              "  const element = document.createElement('span');\n",
              "  element.textContent = text;\n",
              "  for (const key of Object.keys(styleAttributes)) {\n",
              "    element.style[key] = styleAttributes[key];\n",
              "  }\n",
              "  return element;\n",
              "}\n",
              "\n",
              "// Max number of bytes which will be uploaded at a time.\n",
              "const MAX_PAYLOAD_SIZE = 100 * 1024;\n",
              "\n",
              "function _uploadFiles(inputId, outputId) {\n",
              "  const steps = uploadFilesStep(inputId, outputId);\n",
              "  const outputElement = document.getElementById(outputId);\n",
              "  // Cache steps on the outputElement to make it available for the next call\n",
              "  // to uploadFilesContinue from Python.\n",
              "  outputElement.steps = steps;\n",
              "\n",
              "  return _uploadFilesContinue(outputId);\n",
              "}\n",
              "\n",
              "// This is roughly an async generator (not supported in the browser yet),\n",
              "// where there are multiple asynchronous steps and the Python side is going\n",
              "// to poll for completion of each step.\n",
              "// This uses a Promise to block the python side on completion of each step,\n",
              "// then passes the result of the previous step as the input to the next step.\n",
              "function _uploadFilesContinue(outputId) {\n",
              "  const outputElement = document.getElementById(outputId);\n",
              "  const steps = outputElement.steps;\n",
              "\n",
              "  const next = steps.next(outputElement.lastPromiseValue);\n",
              "  return Promise.resolve(next.value.promise).then((value) => {\n",
              "    // Cache the last promise value to make it available to the next\n",
              "    // step of the generator.\n",
              "    outputElement.lastPromiseValue = value;\n",
              "    return next.value.response;\n",
              "  });\n",
              "}\n",
              "\n",
              "/**\n",
              " * Generator function which is called between each async step of the upload\n",
              " * process.\n",
              " * @param {string} inputId Element ID of the input file picker element.\n",
              " * @param {string} outputId Element ID of the output display.\n",
              " * @return {!Iterable<!Object>} Iterable of next steps.\n",
              " */\n",
              "function* uploadFilesStep(inputId, outputId) {\n",
              "  const inputElement = document.getElementById(inputId);\n",
              "  inputElement.disabled = false;\n",
              "\n",
              "  const outputElement = document.getElementById(outputId);\n",
              "  outputElement.innerHTML = '';\n",
              "\n",
              "  const pickedPromise = new Promise((resolve) => {\n",
              "    inputElement.addEventListener('change', (e) => {\n",
              "      resolve(e.target.files);\n",
              "    });\n",
              "  });\n",
              "\n",
              "  const cancel = document.createElement('button');\n",
              "  inputElement.parentElement.appendChild(cancel);\n",
              "  cancel.textContent = 'Cancel upload';\n",
              "  const cancelPromise = new Promise((resolve) => {\n",
              "    cancel.onclick = () => {\n",
              "      resolve(null);\n",
              "    };\n",
              "  });\n",
              "\n",
              "  // Wait for the user to pick the files.\n",
              "  const files = yield {\n",
              "    promise: Promise.race([pickedPromise, cancelPromise]),\n",
              "    response: {\n",
              "      action: 'starting',\n",
              "    }\n",
              "  };\n",
              "\n",
              "  cancel.remove();\n",
              "\n",
              "  // Disable the input element since further picks are not allowed.\n",
              "  inputElement.disabled = true;\n",
              "\n",
              "  if (!files) {\n",
              "    return {\n",
              "      response: {\n",
              "        action: 'complete',\n",
              "      }\n",
              "    };\n",
              "  }\n",
              "\n",
              "  for (const file of files) {\n",
              "    const li = document.createElement('li');\n",
              "    li.append(span(file.name, {fontWeight: 'bold'}));\n",
              "    li.append(span(\n",
              "        `(${file.type || 'n/a'}) - ${file.size} bytes, ` +\n",
              "        `last modified: ${\n",
              "            file.lastModifiedDate ? file.lastModifiedDate.toLocaleDateString() :\n",
              "                                    'n/a'} - `));\n",
              "    const percent = span('0% done');\n",
              "    li.appendChild(percent);\n",
              "\n",
              "    outputElement.appendChild(li);\n",
              "\n",
              "    const fileDataPromise = new Promise((resolve) => {\n",
              "      const reader = new FileReader();\n",
              "      reader.onload = (e) => {\n",
              "        resolve(e.target.result);\n",
              "      };\n",
              "      reader.readAsArrayBuffer(file);\n",
              "    });\n",
              "    // Wait for the data to be ready.\n",
              "    let fileData = yield {\n",
              "      promise: fileDataPromise,\n",
              "      response: {\n",
              "        action: 'continue',\n",
              "      }\n",
              "    };\n",
              "\n",
              "    // Use a chunked sending to avoid message size limits. See b/62115660.\n",
              "    let position = 0;\n",
              "    do {\n",
              "      const length = Math.min(fileData.byteLength - position, MAX_PAYLOAD_SIZE);\n",
              "      const chunk = new Uint8Array(fileData, position, length);\n",
              "      position += length;\n",
              "\n",
              "      const base64 = btoa(String.fromCharCode.apply(null, chunk));\n",
              "      yield {\n",
              "        response: {\n",
              "          action: 'append',\n",
              "          file: file.name,\n",
              "          data: base64,\n",
              "        },\n",
              "      };\n",
              "\n",
              "      let percentDone = fileData.byteLength === 0 ?\n",
              "          100 :\n",
              "          Math.round((position / fileData.byteLength) * 100);\n",
              "      percent.textContent = `${percentDone}% done`;\n",
              "\n",
              "    } while (position < fileData.byteLength);\n",
              "  }\n",
              "\n",
              "  // All done.\n",
              "  yield {\n",
              "    response: {\n",
              "      action: 'complete',\n",
              "    }\n",
              "  };\n",
              "}\n",
              "\n",
              "scope.google = scope.google || {};\n",
              "scope.google.colab = scope.google.colab || {};\n",
              "scope.google.colab._files = {\n",
              "  _uploadFiles,\n",
              "  _uploadFilesContinue,\n",
              "};\n",
              "})(self);\n",
              "</script> "
            ]
          },
          "metadata": {}
        },
        {
          "output_type": "stream",
          "name": "stdout",
          "text": [
            "Saving ph-data.csv to ph-data.csv\n"
          ]
        }
      ],
      "source": [
        "from google.colab import files\n",
        "uploaded = files.upload()\n",
        "ph_data=pd.read_csv('ph-data.csv')"
      ]
    },
    {
      "cell_type": "markdown",
      "metadata": {
        "id": "Y_S2XCWTW9Rh"
      },
      "source": [
        "Разбить данные на тренировочные и тестовые в соотношении 7/3. Зафиксировать random_state=5"
      ]
    },
    {
      "cell_type": "code",
      "execution_count": 133,
      "metadata": {
        "colab": {
          "base_uri": "https://localhost:8080/"
        },
        "id": "Y9acOESgW9Ri",
        "outputId": "4afc2487-dc32-4c9a-eefe-34d00e708232"
      },
      "outputs": [
        {
          "output_type": "stream",
          "name": "stdout",
          "text": [
            "517    1\n",
            "312   -1\n",
            "349    0\n",
            "189    1\n",
            "116    1\n",
            "208    1\n",
            "178    1\n",
            "417   -1\n",
            "495    0\n",
            "386    1\n",
            "Name: label, dtype: int64\n",
            "457\n"
          ]
        }
      ],
      "source": [
        "# изменить порядок BGR->RGB\n",
        "ph_df = ph_data[ph_data.columns.tolist()[::-1]]\n",
        "# установить классы -1, 0, 1\n",
        "ph_df.label[ph_df.label<6] = -1\n",
        "ph_df.label[(5<ph_df.label) & (ph_df.label<10)] = 0\n",
        "ph_df.label[ph_df.label>9] = 1\n",
        "\n",
        "X = ph_df.drop('label', axis=1)\n",
        "y = ph_df['label']\n",
        "X_train, X_test, y_train, y_test = train_test_split(X, y, test_size=0.3, random_state=5)\n",
        "print(y_train[:10])\n",
        "print(len(y_train))"
      ]
    },
    {
      "cell_type": "markdown",
      "metadata": {
        "id": "PhVCGXl9W9Ri"
      },
      "source": [
        "Создать и обучить поочередно классификаторы KNeighborsClassifier, GaussianNB, DecisionTreeClassifier. Обучить их на тренировочной выборке, оценить точность на проверочной. Попробовать изменить параметры в конструкторе n_neighbors у ближайших соседей, max_depth у дерева. Посмотреть как изменится точность предсказаний (и изменится ли)."
      ]
    },
    {
      "cell_type": "code",
      "execution_count": 134,
      "metadata": {
        "id": "C8GhpsRPW9Rj",
        "colab": {
          "base_uri": "https://localhost:8080/"
        },
        "outputId": "358814d4-f5a3-4524-abf6-ce257a2d3d6c"
      },
      "outputs": [
        {
          "output_type": "stream",
          "name": "stdout",
          "text": [
            "knn acc (5):  0.9438775510204082\n",
            "gaussian nb:  0.9285714285714286\n",
            "decision tree classifier (3):  0.9540816326530612\n"
          ]
        }
      ],
      "source": [
        "clr = KNeighborsClassifier(n_neighbors=5)\n",
        "clr.fit(X_train, y_train)\n",
        "y_pred = clr.predict(X_test)\n",
        "print('knn acc (5): ', accuracy_score(y_test, y_pred))\n",
        "# точность не совсем зависит от количества соседей, при 7 соседях 0.92, при 5 0.94, при 20 0.93\n",
        "\n",
        "clr = GaussianNB()\n",
        "clr.fit(X_train, y_train)\n",
        "y_pred = clr.predict(X_test)\n",
        "#print(y_pred)\n",
        "print('gaussian nb: ', accuracy_score(y_test, y_pred))\n",
        "\n",
        "clr = DecisionTreeClassifier(max_depth=3)\n",
        "clr.fit(X_train, y_train)\n",
        "y_pred = clr.predict(X_test)\n",
        "print('decision tree classifier (3): ', accuracy_score(y_test, y_pred))\n",
        "#аналогично алгоритму KNN, точность достигает пика в каком-то месте, а потом снова ухудшается"
      ]
    },
    {
      "cell_type": "markdown",
      "metadata": {
        "id": "0MaTB5uhW9Rm"
      },
      "source": [
        "Выбрать из просмотренных классификаторов тот классификатор и тот параметр конструктора, который показал большую точность. Обучить его на полной выборке X, y."
      ]
    },
    {
      "cell_type": "code",
      "execution_count": 141,
      "metadata": {
        "id": "CF7jjiC7W9Rn",
        "colab": {
          "base_uri": "https://localhost:8080/"
        },
        "outputId": "61c9c0c8-a91c-4fa3-b00e-db9812387b79"
      },
      "outputs": [
        {
          "output_type": "execute_result",
          "data": {
            "text/plain": [
              "DecisionTreeClassifier(max_depth=3)"
            ]
          },
          "metadata": {},
          "execution_count": 141
        }
      ],
      "source": [
        "#выбираю дерево решений\n",
        "#X_train_new, X_test, y_train_new, y_test = train_test_split(X, y, test_size=None, random_state=5)\n",
        "clr = DecisionTreeClassifier(max_depth=3)\n",
        "clr.fit(X.values, y)"
      ]
    },
    {
      "cell_type": "markdown",
      "metadata": {
        "id": "5BwEfCwIW9Ro"
      },
      "source": [
        "Проверить, какой результат вернет классификатор для следующих объектов, заданных в формате RGB:\n",
        "\n",
        "<br>\n",
        "<code style=\"background:rgb(255, 38, 0);color:white\">[255, 38, 0]</code>\n",
        "<br>\n",
        "<code style=\"background:rgb(255, 124, 0);color:white\">[255, 124, 0]</code>\n",
        "<br>\n",
        "<code style=\"background:rgb(141, 250, 0);color:black\">[141, 250, 0]</code>\n",
        "<br>\n",
        "<code style=\"background:rgb(179, 68, 198);color:white\">[179, 68, 198]</code>\n",
        "<br>\n",
        "<code style=\"background:rgb(111, 43, 142);color:white\">[111, 43, 142]</code>"
      ]
    },
    {
      "cell_type": "code",
      "execution_count": 142,
      "metadata": {
        "id": "5j7D67PlW9Rp"
      },
      "outputs": [],
      "source": [
        "X_new = [[255, 38, 0],[255, 124, 0],[141, 250, 0],[179, 68, 198],[111, 43, 142]]\n",
        "#должно быть [-1, -1, 0, 1, 1]"
      ]
    },
    {
      "cell_type": "code",
      "execution_count": 143,
      "metadata": {
        "id": "_61aDdLuW9Rp",
        "colab": {
          "base_uri": "https://localhost:8080/"
        },
        "outputId": "59b585bf-e480-4a3c-bae1-6e75d8159274"
      },
      "outputs": [
        {
          "output_type": "stream",
          "name": "stdout",
          "text": [
            "[-1 -1 -1  1  1]\n"
          ]
        }
      ],
      "source": [
        "y_pred = clr.predict(X_new)\n",
        "print(y_pred)"
      ]
    },
    {
      "cell_type": "code",
      "source": [
        "from joblib import dump\n",
        "dump(clr,'baz_model.mdl')"
      ],
      "metadata": {
        "colab": {
          "base_uri": "https://localhost:8080/"
        },
        "id": "VPSRnGgYtQxZ",
        "outputId": "5cb1c015-d6be-4ab1-8f38-f589c11c0576"
      },
      "execution_count": 144,
      "outputs": [
        {
          "output_type": "execute_result",
          "data": {
            "text/plain": [
              "['baz_model.mdl']"
            ]
          },
          "metadata": {},
          "execution_count": 144
        }
      ]
    },
    {
      "cell_type": "code",
      "source": [
        "yyyy = clr.predict([[141,250,0]])\n",
        "print(yyyy)"
      ],
      "metadata": {
        "id": "DuGCCg7XxHKG",
        "colab": {
          "base_uri": "https://localhost:8080/"
        },
        "outputId": "d2e0787d-4c33-4ba0-ac29-f28337c674f9"
      },
      "execution_count": 109,
      "outputs": [
        {
          "output_type": "stream",
          "name": "stdout",
          "text": [
            "[-1]\n"
          ]
        }
      ]
    },
    {
      "cell_type": "code",
      "source": [
        "from joblib import load\n",
        "model = load('baz_model.mdl')\n",
        "y_aaa = model.predict([[250,38,0]])\n",
        "print(y_aaa[0])"
      ],
      "metadata": {
        "colab": {
          "base_uri": "https://localhost:8080/"
        },
        "id": "swLNSPhOTWIR",
        "outputId": "911bcd32-88cd-4df1-89a6-f10e584a49b5"
      },
      "execution_count": 145,
      "outputs": [
        {
          "output_type": "stream",
          "name": "stdout",
          "text": [
            "-1\n"
          ]
        }
      ]
    },
    {
      "cell_type": "code",
      "source": [],
      "metadata": {
        "id": "T2TC5gAbT05n"
      },
      "execution_count": null,
      "outputs": []
    }
  ],
  "metadata": {
    "kernelspec": {
      "display_name": "Python 3",
      "language": "python",
      "name": "python3"
    },
    "language_info": {
      "codemirror_mode": {
        "name": "ipython",
        "version": 3
      },
      "file_extension": ".py",
      "mimetype": "text/x-python",
      "name": "python",
      "nbconvert_exporter": "python",
      "pygments_lexer": "ipython3",
      "version": "3.7.6"
    },
    "colab": {
      "provenance": [],
      "collapsed_sections": []
    }
  },
  "nbformat": 4,
  "nbformat_minor": 0
}