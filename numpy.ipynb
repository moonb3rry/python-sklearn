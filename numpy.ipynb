{
  "metadata": {
    "kernelspec": {
      "name": "python",
      "display_name": "Python (Pyodide)",
      "language": "python"
    },
    "language_info": {
      "codemirror_mode": {
        "name": "python",
        "version": 3
      },
      "file_extension": ".py",
      "mimetype": "text/x-python",
      "name": "python",
      "nbconvert_exporter": "python",
      "pygments_lexer": "ipython3",
      "version": "3.8"
    }
  },
  "nbformat_minor": 4,
  "nbformat": 4,
  "cells": [
    {
      "cell_type": "markdown",
      "source": "ФИО студента: Базыльникова Екатерина Родионовна\n№ группы: М8О-202М-21",
      "metadata": {}
    },
    {
      "cell_type": "markdown",
      "source": "Дан массив numpy. Найти\n\nа. минимальное значение среди значений, больших чем 0.5 (0.56924611)\n\nб. значения, которые по модулю превосходят 0.8 ([ 0.80693746, -0.87781479])",
      "metadata": {}
    },
    {
      "cell_type": "code",
      "source": "import numpy as np\nar = np.array([0.6838899 , -0.73243766, 0.56924611, -0.27915981, 0.13586026,\n       0.80693746, 0.29145598, 0.32216211, 0.07419593, -0.87781479])",
      "metadata": {
        "trusted": true
      },
      "execution_count": 77,
      "outputs": []
    },
    {
      "cell_type": "code",
      "source": "# без numpy\nmin_of_more = ar[0]\ng_t_value = []\nfor elem in ar:\n    if elem > 0.5:\n        if elem <= min_of_more:\n            min_of_more = elem\n    if abs(elem) > 0.8:\n        g_t_value.append(elem)\n\nprint(min_of_more)\nprint(g_t_value)",
      "metadata": {
        "trusted": true
      },
      "execution_count": 78,
      "outputs": [
        {
          "name": "stdout",
          "text": "0.56924611\n[0.80693746, -0.87781479]\n",
          "output_type": "stream"
        }
      ]
    },
    {
      "cell_type": "code",
      "source": "# c numpy\na = np.amin(ar[ar>0.5])\nprint(a)\nb = ar[abs(ar)>0.8]\nprint(b)",
      "metadata": {
        "trusted": true
      },
      "execution_count": 79,
      "outputs": [
        {
          "name": "stdout",
          "text": "0.56924611\n[ 0.80693746 -0.87781479]\n",
          "output_type": "stream"
        }
      ]
    },
    {
      "cell_type": "markdown",
      "source": "Получить np массив, состоящий из обратных элементов к заданным, записанный в виде накапливаемой суммы.\n\nНачиная с какого номера элемента по порядку накапливаемя сумма превысит 5?",
      "metadata": {}
    },
    {
      "cell_type": "code",
      "source": "ar2 = np.array(range(1, 1000))",
      "metadata": {
        "trusted": true
      },
      "execution_count": 80,
      "outputs": []
    },
    {
      "cell_type": "code",
      "source": "# без numpy\ns = 0\nfor i in range(len(ar2)):\n    s += 1/ar2[i]\n    if s >= 5:\n        print(i)\n        break",
      "metadata": {
        "trusted": true
      },
      "execution_count": 81,
      "outputs": [
        {
          "name": "stdout",
          "text": "82\n",
          "output_type": "stream"
        }
      ]
    },
    {
      "cell_type": "code",
      "source": "# с numpy\nprint((np.where(np.cumsum(1/ar2) > 5))[0][0])",
      "metadata": {
        "trusted": true
      },
      "execution_count": 82,
      "outputs": [
        {
          "name": "stdout",
          "text": "82\n",
          "output_type": "stream"
        }
      ]
    },
    {
      "cell_type": "markdown",
      "source": "Написать функцию, которая по заданным векторам a,b вернёт True, если по каждой координате различие не больше чем на заданную величину delta",
      "metadata": {}
    },
    {
      "cell_type": "code",
      "source": "ar3 = np.array([0.095, 0.2, -0.11, -0.20])\nar4 = np.array([0.14, 0.22, -0.14, -0.17])",
      "metadata": {
        "trusted": true
      },
      "execution_count": 83,
      "outputs": []
    },
    {
      "cell_type": "code",
      "source": "#def LessDelta(a,b,delta):\n#    for i in range(len(ar3)):\n#        if abs(ar3[i]-ar4[i]) > delta:\n#            return False\n#    return True\ndef LessDelta(a, b, delta):\n    c=a-b\n    if c[np.abs(c)> delta]:\n        return False\n    return True",
      "metadata": {
        "trusted": true
      },
      "execution_count": 84,
      "outputs": []
    },
    {
      "cell_type": "code",
      "source": "LessDelta(ar3, ar4, 0.04) == False",
      "metadata": {
        "trusted": true
      },
      "execution_count": 85,
      "outputs": [
        {
          "execution_count": 85,
          "output_type": "execute_result",
          "data": {
            "text/plain": "True"
          },
          "metadata": {}
        }
      ]
    },
    {
      "cell_type": "code",
      "source": "LessDelta(ar3, ar4, 0.05) == True",
      "metadata": {
        "trusted": true
      },
      "execution_count": 86,
      "outputs": [
        {
          "name": "stderr",
          "text": "<ipython-input-84-3bf726439836>:8: DeprecationWarning: The truth value of an empty array is ambiguous. Returning False, but in future this will result in an error. Use `array.size > 0` to check that an array is not empty.\n  if c[np.abs(c)> delta]:\n",
          "output_type": "stream"
        },
        {
          "execution_count": 86,
          "output_type": "execute_result",
          "data": {
            "text/plain": "True"
          },
          "metadata": {}
        }
      ]
    }
  ]
}